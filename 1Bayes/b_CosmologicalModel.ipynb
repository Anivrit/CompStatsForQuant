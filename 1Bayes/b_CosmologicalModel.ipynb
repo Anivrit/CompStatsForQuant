{
 "cells": [
  {
   "cell_type": "markdown",
   "id": "d195fb90-c8a2-4135-8409-459864f0190f",
   "metadata": {},
   "source": [
    "# Bayesian Cosmology\n",
    "\n",
    "We will attempt to explore a simple cosmological model for the evolution of the universe using some real-world supernova data. This topic is very deep and you can spend an entire degree in physics learning what that goes into cosmology, but we will try and highlight some of the basics and provide links for further reading.  \n",
    "\n",
    "The cosmology we are going to investigate is a *radiation free* universe, which only has two parameters: \n",
    "* $\\Omega_{\\Lambda}$, also known as dark energy or the [cosmological constant](https://en.wikipedia.org/wiki/Cosmological_constant);\n",
    "*  $\\Omega_M$, also known as [dark matter](https://en.wikipedia.org/wiki/Dark_matter).\n",
    "\n",
    "We will also assume a prior that the [universe is flat](https://en.wikipedia.org/wiki/Shape_of_the_universe), which essentially just forces the additional constraint at the end that $\\Omega_{\\Lambda} + \\Omega_M = 1$.\n",
    "\n",
    "For those further interested in the physics, this is the starting point for the [Lambda-CDM model](https://en.wikipedia.org/wiki/Lambda-CDM_model). However, we are just going to assume the physicists know what they are doing, and try calculate posterior distributions over the 2 model parameters using bayesian inference.\n"
   ]
  },
  {
   "cell_type": "markdown",
   "id": "e30cbba1-16a5-46d5-81f8-ab83373782a0",
   "metadata": {},
   "source": [
    "# Friedmann Equations\n",
    "\n",
    "\n",
    "The [Friedmann Equations](https://en.wikipedia.org/wiki/Friedmann_equations) are a set of equations which govern how the expansion of the universe evolves. The Friedmann equation for a flat lambda universe, and therefore of focus to us is\n",
    "$$\n",
    "\\frac{H^2}{H_0^2} = \\Omega_M (1 + z)^3 + (1 - \\Omega_{\\Lambda} - \\Omega_M) (1 + z)^2 + \\Omega_{\\Lambda}.\n",
    "$$\n",
    "$H$ is known as the [Hubble factor](https://en.wikipedia.org/wiki/Hubble%27s_law) and quantifies how quickly the universe is expanding. $z$ is the [redshift](), which states how much light gets distorted as it travels through the universe to reach us from far away stars. $H_0$ is the [Hubble factor today](https://en.wikipedia.org/wiki/Hubble%27s_law#21st_century_measurements), which we will take as a known value $H_0 = 70 \\text{km} \\text{ s}^{-1} \\text{ Mpc}^{-1}$."
   ]
  },
  {
   "cell_type": "markdown",
   "id": "2419f248-70e4-4874-93ed-6333cb140693",
   "metadata": {},
   "source": [
    "Using the Friedmann equation and a bit of nobel-prize winning physics, we can relate the apparent brightness of [supernova]() explosions to their measured redshift. See [Perlmutter97](https://arxiv.org/pdf/astro-ph/9608192.pdf), [Astier05](https://www.aanda.org/articles/aa/pdf/2006/07/aa4185-05.pdf). \n",
    "$$\n",
    "m(z) = 5 \\log_{10} (d_L (z ; \\Omega_{\\Lambda}, \\Omega_M) / 10 \\text{pc} )\n",
    "$$\n",
    "\n",
    "Where the cosmological parametrisation lies in the luminosity distance, $d_L$, given by \n",
    "$$\n",
    "d_L (z ; \\Omega_{\\Lambda}, \\Omega_M) = \\frac{c(1+z)}{H_0 \\sqrt{|\\kappa|}} \\mathcal{S} \\left ( \\sqrt{|\\kappa|} \\int_0^z [(1+z')^2(1+\\Omega_M z') - z'(2+z')\\Omega_{\\Lambda}]^{-\\frac{1}{2}} dz' \\right).\n",
    "$$\n",
    "Here, $c = 299,792 \\text{km/s}$ is the speed of light and\n",
    "$$\n",
    "\\kappa = \n",
    "\\begin{cases}\n",
    "1, &\\Omega_{\\Lambda} + \\Omega_M = 1 \\\\\n",
    "1 - \\Omega_{\\Lambda} - \\Omega_M, &\\text{otherwise}\n",
    "\\end{cases}\n",
    "$$\n",
    "$$\n",
    "\\mathcal{S}(x) = \n",
    "\\begin{cases}\n",
    "\\sin(x), &\\Omega_{\\Lambda} + \\Omega_M > 1 \\\\\n",
    "x, &\\Omega_{\\Lambda} + \\Omega_M = 1\\\\\n",
    "\\sinh(x), &\\Omega_{\\Lambda} + \\Omega_M < 1\n",
    "\\end{cases}\n",
    "$$\n",
    "Now these expressions looks very complicated at first glance, and they are. We dont fully understand them either. However, one of the skills that is important in quant finance is the ability to implement a model that you might not have time or expertise to fully understand. It is important to be able to abstract away the meaning behind equations and continue from there in a pragmatic workplace. \n",
    "\n",
    "The above expressions are really just some basic math functions, a piecewise function, and an integral. Implementing this in python shouldn't be too difficult. Take care to make sure all the units are correct and you dont forget to divide by $10\\text{pc}$ in your luminosity distance."
   ]
  },
  {
   "cell_type": "markdown",
   "id": "6580ddd3",
   "metadata": {
    "collapsed": false,
    "jupyter": {
     "outputs_hidden": false
    }
   },
   "source": [
    "![supernova_data](figs/supernova_data.png)\n",
    "*Supernova brightness data with two cosmological fits overlayed*\n",
    "\n",
    "Here is the raw supernova brightness data and two fits for different cosmological parameters. We can see how different cosmologies produce a better or worse fit."
   ]
  },
  {
   "cell_type": "markdown",
   "id": "99d6dfbd-8bff-40ef-81ea-525c6bf322f1",
   "metadata": {},
   "source": [
    "# Likelihood Function\n",
    "\n",
    "Now we have an expression for $m(z ; \\Omega_{\\Lambda}, \\Omega_M)$ we use the supernova dataset from [Astier et al., 2005.](https://www.aanda.org/articles/aa/pdf/2006/07/aa4185-05.pdf) that we have provided in `supernova_data.csv` along with a likelihood function to run a Bayesian analysis. \n",
    "\n",
    "The idea is to assume a value for $(\\Omega_{\\Lambda}, \\Omega_M)$ and then calculate the $\\chi^2$ of the fit $m(z)$ with our data $D$. The larger the $\\chi^2$, the worse the fit is and therefore the lower the likelihood. We can express this by treating the $\\chi^2$ value as a boltzmann factor and say our likelihood is proportional to\n",
    "$$\n",
    "\\mathcal{L}(\\Omega_{\\Lambda}, \\Omega_M) = e^{-\\chi^{2} (\\Omega_{\\Lambda}, \\Omega_M)}\n",
    "$$\n",
    "\n",
    "The $\\chi^2$ is simply the sum of all residuals\n",
    "$$\n",
    "\\chi^2(\\Omega_{\\Lambda}, \\Omega_M) = \\sum_i \\left( m_{\\text{data}}(z) - m_{\\text{model}}(z ; \\Omega_{\\Lambda}, \\Omega_M) \\right)^2\n",
    "$$"
   ]
  },
  {
   "cell_type": "markdown",
   "id": "53653123-42e8-4b2b-8667-fb408b64e432",
   "metadata": {},
   "source": [
    "Now you have all the maths required to run a 2-dimensional Bayesian inference on a simple cosmological model. You should be able to calculate and plot a posterior distribution which shows the most likely values for our universes dark matter and dark energy densities.\n",
    "\n",
    "![Cosmological_Posterior](figs/cosmological_posterior.png)"
   ]
  },
  {
   "cell_type": "code",
   "execution_count": 4,
   "id": "73df1c9a-c4bc-4f8f-8ef1-99bab932d948",
   "metadata": {},
   "outputs": [],
   "source": [
    "import numpy as np\n",
    "import pandas as pd\n",
    "import matplotlib.pyplot as plt\n",
    "from matplotlib import cm\n",
    "import math\n",
    "import scipy\n",
    "\n",
    "c = 299792 # speed of light (km/s)\n",
    "H0 = 70 / 1000000 # hubble constant (km/s/pc)\n",
    "\n",
    "data = pd.read_csv('supernova_data.csv')\n",
    "data.sort_values(by = ['z'], inplace=True)"
   ]
  },
  {
   "cell_type": "markdown",
   "id": "10da8f24-177b-410a-b58e-c58ca930bf6c",
   "metadata": {},
   "source": [
    "The above graph shows the 2D posterior distribution over the parameters $\\Omega_M$ and $\\Omega_{\\Lambda}$. It is cool to see how it is similar to the graph in the real scientific paper. A value of $\\Omega_{\\Lambda} > 0$ means that the universe is accelerating, which looks pretty likely from our result!\n",
    "\n",
    "We can now impose the additional prior belief that the universe is flat, which means that $\\Omega_{\\Lambda} + \\Omega_M = 1$, shown by the black line. With this prior we can plot the posterior distribution along this line and find the most likely parameter values: $\\Omega_{\\Lambda} = 0.788,  \\Omega_M = 0.222$. There are many further statistical tests that can be done to investigate the uncertainty distributions of these parameters, but we'll leave that up to you.\n",
    "\n",
    "![Flat_Universe](figs/flat_universe.png)"
   ]
  }
 ],
 "metadata": {
  "kernelspec": {
   "display_name": "Python 3 (ipykernel)",
   "language": "python",
   "name": "python3"
  },
  "language_info": {
   "codemirror_mode": {
    "name": "ipython",
    "version": 3
   },
   "file_extension": ".py",
   "mimetype": "text/x-python",
   "name": "python",
   "nbconvert_exporter": "python",
   "pygments_lexer": "ipython3",
   "version": "3.9.6"
  }
 },
 "nbformat": 4,
 "nbformat_minor": 5
}
