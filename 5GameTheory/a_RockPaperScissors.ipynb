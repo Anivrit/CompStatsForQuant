{
 "cells": [
  {
   "cell_type": "markdown",
   "id": "61fb92b6-235b-4e24-8839-fc2ce880ebc0",
   "metadata": {},
   "source": [
    "# Introduction to Game Theory\n",
    "\n",
    "[Game Theory](https://en.wikipedia.org/wiki/Game_theory) is the study of mathematical strategies among rational agents in a game. It has very important applications in financial markets, fundamentally due to the fact that every trade occurs between two parties who both believe their side of the trade to be the correct one. In this way, a market forms an effective 'game' with defined rules and millions of (approximately) rational agents participating. \n",
    "\n",
    "Understanding game theory principles such as [adverse selection](https://en.wikipedia.org/wiki/Adverse_selection) and [nash equilibria](https://en.wikipedia.org/wiki/Nash_equilibrium) are very useful concepts when designing strategies in quant trading. Studying games such as chess and poker are also good resources for learning ideas from game theory and supplement this course well. For a good introduction to poker theory see [The Course](https://books.google.co.uk/books/about/The_Course.html?id=GJSOrgEACAAJ&redir_esc=y).\n",
    "\n",
    "\n",
    "## Nash Equilibrium\n",
    "In this notebook we will look at one algorithm for solving the Nash equilibrium in the trivial example of rock paper scissors. In the next notebook we will look at a more interesting dice game which is inspired by an actual quant trading interview question.\n",
    "\n",
    "The concept of nash equilibrium essentially defines the solution to a non-cooperative game. It is a fairly nuanced idea and we recommend going through the wiki page or some textbooks before continuing. In summary, \"In a Nash equilibrium, each player is assumed to know the equilibrium strategies of the other players, and no one has anything to gain by changing only one's own strategy\".\n",
    "\n",
    "The Nash equilibrium for Rock Paper Scissors is known as a [mixed strategy](https://en.wikipedia.org/wiki/Strategy_(game_theory)#Mixed_strategy), and is simply to randomly pick each option randomly with probability $p=1/3$. Our aim is to reproduce this strategy computationally using [counterfactual regret minimization](https://poker.cs.ualberta.ca/publications/NIPS07-cfr.pdf).\n",
    "\n",
    "## Counterfactual Regret Minimization\n",
    "[Counterfactual regret minimization](https://poker.cs.ualberta.ca/publications/NIPS07-cfr.pdf) is an algorithm for solving nash equilibriums and is currently the state of the art for Texas No Limit Hold'em Poker solvers.\n",
    "\n",
    "Let $a$ be the actions available to player $i$. We define the *strategy*, $\\sigma_i(a)$, to be a probability distribution over the actions, such that $\\sum_{\\text{actions}} \\sigma_i(a) = 1$. If there are multiple turns in the game, then each turn will have a different strategy depending on the previous actions taken by other players. This defines a *strategy profile* for the player $\\sigma_i$.\n",
    "\n",
    "In the example of rock-paper-scissors both players have only one turn, and the actions are:\n",
    "* Choose Rock\n",
    "* Choose Paper\n",
    "* Choose Scissors\n",
    "\n",
    "Next we define the *utility*, $u_i(a)$, as the expected payoff for player $i$ for picking action $a$. Imagine that player A has a strategy where they pick rock 100% of the time. The utility for player B would look like $u_B(a) = \\{ R=0, P=1, S=-1 \\}$ for a $1 bet on each game.\n",
    "\n",
    "The algorithm works iteratively, starting with a random strategy for both players and slightly adjusting the strategies each iteration to eventually converge onto the nash equilibrium strategy.\n",
    "\n",
    "Define the immediate counterfactual *regret* on iteration $t$ of an action $a$ as $R_i^t(a)$. It is the difference between the utility of our strategy and the utility of picking action $a$ 100% of the time. \n",
    "$$\n",
    "r_i^t(a) = u_i(a) - \\sum_{a'} \\sigma_i(a') u_i(a')\n",
    "$$\n",
    "This quantifies how much regret we have for not choosing action $a$ as part of our strategy. If our regret is very positive, then we would want to add more of action $a$ to our strategy; and if the regret is very negative, then we would want to stop doing action $a$ as much.\n",
    "\n",
    "The accumulated regret is simply the sum of immediate regret over all iterations\n",
    "$$\n",
    "R^T_i(a) = \\sum_t^T r_i^t(a)\n",
    "$$\n",
    "To choose our strategy on iteration $t$ we use the accumulated regret. Let $R^{T,+}_i(a) = \\max(R^T_i(a),0)$ be the positive portion of accumulated regret.\n",
    "\n",
    "We choose the strategy for each player at iteration $T$ according to\n",
    "$$\n",
    "\\sigma^T_i(a) = \n",
    "\\frac{R^{T,+}_i(a)}{\\sum_{a} R^{T,+}_i(a)}\n",
    "$$\n",
    "We must also consider the edge case in which $\\sum_a R^{T,+}_i(a)=0$ in which we will simply choose all strategies equally\n",
    "$$\n",
    "\\sigma^T_i(a) = \\frac{1}{A}\n",
    "$$\n",
    "where $A$ is the total number of actions.\n",
    "\n",
    "This now completes the counterfactual regret minimization algorithm. There is a proof that choosing strategies according to this scheme will converge to nash equilibrium as $T \\rightarrow \\infty$"
   ]
  },
  {
   "cell_type": "code",
   "execution_count": null,
   "id": "adc029b9-accc-480a-b105-4ebb31bf5813",
   "metadata": {},
   "outputs": [],
   "source": []
  }
 ],
 "metadata": {
  "kernelspec": {
   "display_name": "Python 3 (ipykernel)",
   "language": "python",
   "name": "python3"
  },
  "language_info": {
   "codemirror_mode": {
    "name": "ipython",
    "version": 3
   },
   "file_extension": ".py",
   "mimetype": "text/x-python",
   "name": "python",
   "nbconvert_exporter": "python",
   "pygments_lexer": "ipython3",
   "version": "3.9.6"
  }
 },
 "nbformat": 4,
 "nbformat_minor": 5
}
