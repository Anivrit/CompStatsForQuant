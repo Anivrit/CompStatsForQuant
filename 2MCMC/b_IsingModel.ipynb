{
 "cells": [
  {
   "cell_type": "markdown",
   "id": "bb8986c7-692b-4b27-a34c-79fd8780cac1",
   "metadata": {},
   "source": [
    "# Ising Model\n",
    "\n",
    "![title](figs/ising_model.png)\n",
    "\n",
    "In this project you will use the Metropolis algorithm to investigate ferromagnetism using a simplified model of the spin‑spin interactions known as the [Ising model](https://en.wikipedia.org/wiki/Ising_model). In the Ising model we treat the magnet as a set of spins on fixed lattice sites in two dimensions. The remarkably simple model predicts many features of real ferromagnetic materials such as second order phase transitions in temperature ([Curie point](https://en.wikipedia.org/wiki/Curie_temperature)).\n",
    "\n",
    "Suppose we have an $N$ by $N$ 2D lattice, for a total of $N^2$ sites. The energy of the system is written\n",
    "$$\n",
    "E = - \\sum_{(ij)}{s_i s_j}\n",
    "$$\n",
    "where $(ij)$ is the sum over nearest neighbour pairs of spins, four total in the 2D case. \n",
    "\n",
    "In order to calculate an observable of the system such as the magnetisation (average spin value $ M = \\frac{1}{N^2} \\sum s_i $), we need to calculate the [canonical ensemble](https://en.wikipedia.org/wiki/Canonical_ensemble) of the system at a given temperature, and then take the average $\\langle M \\rangle = \\overline{M}$ over many microstates. Therefore, we need an algorithm which will generate lattice configurations according to the [Boltzman distribution](https://en.wikipedia.org/wiki/Boltzmann_distribution) at temperature $T$\n",
    "$$\n",
    "P(\\text{Lattice} ; E) = \\frac{1}{Z} e^{-E / T}\n",
    "$$\n",
    "\n",
    "Don't worry if the physics behind this is unfamiliar, its really not important. The main idea here is that we have a high dimensional function $E$ (energy) of $N^2$ parameters (spin). And we want to calculate (or estimate) the probability distribution over these parameters according to $P(E)$. "
   ]
  },
  {
   "cell_type": "markdown",
   "id": "44279038-ac1b-4f46-99ab-6f508c0cd5e7",
   "metadata": {},
   "source": [
    "## Metropolis Algorithm\n",
    "\n",
    "The [Metropolis algorithm](https://en.wikipedia.org/wiki/Markov_chain_Monte_Carlo) is a Markov-Chain Monte-Carlo method for obtaining a sequence of random samples that is guaranteed to converge to a target distribution. In the last exercise using pure Monte-Carlo, each sample was generated independently with $x,y \\in [0,1]$. \n",
    "\n",
    "With the Metropolis algorithm, we perform local (small) updates on an initial sample and then choose to probabilistically accept or reject the new sample. If we accept the sample, we add it to our chain and then repeat the process. The intuition with this algorithm is that most of the chain should have lattices with low energy, but we still want some configurations with a high energy to match the desired Boltzmann distribution.\n",
    "\n",
    "The metropolis algorithm for evolving the lattice microstates is as follows\n",
    "1. Select a spin. Calculate $ \\Delta E $ to flip it.\n",
    "3. Select a random number $p \\in [0,1] $.\n",
    "4. If $ \\exp(- \\Delta E / T ) > p $, flip the spin.\n",
    "\n",
    "This process is repeated for all $N^2$ spins, after which constitutes a single $\\text{Monte Carlo time step}$. The newly calculated lattice is then added to a list of Markov-Chain samples. \n",
    "\n",
    "To calculate an observable such as the magnetisation, we simply take the mean value of the magnetisation for each sample in the list.\n",
    "$$\n",
    "\\langle M \\rangle = \\frac{1}{n_{\\text{samples}}} \\sum_{t=0}^{\\text{samples}} M_t \n",
    "$$\n",
    "$$\n",
    "M_t = \\frac{1}{N^2} \\sum_i s_i \n",
    "$$\n",
    "\n",
    "Here is a plot of a Markov-Chain sequence where we calculate the magnetisation of 1000 samples and take the mean of the entire chain.\n",
    "![mags](figs/magnetisation.png)"
   ]
  },
  {
   "cell_type": "markdown",
   "id": "9e75f41d-6b07-4733-8b08-f3c21f981896",
   "metadata": {},
   "source": [
    "## Phase Diagram\n",
    "\n",
    "Our main goal is to observe a [phase transition](https://en.wikipedia.org/wiki/Phase_transition) in the Ising model. To do this we have to calculate the (absolute) mean magnetisation $| \\langle M \\rangle |$ for a range of different temperatures. Plotting these on a graph we hope to see a discontinuity where the magnetisation suddenly drops to 0. \n",
    "\n",
    "![phase_transition](figs/phase_transition.png)\n",
    "\n",
    "For reference we have also plotted the [analytical value](https://en.wikipedia.org/wiki/Ising_model#Two_dimensions) for the critical temperature $ T_c = 2/\\ln(1+\\sqrt(2)) \\approx 2.26918 $.\n",
    "\n",
    "It is your task to implement this algorithm and create a similar phase diagram. Start with a small $N=10$ lattice and see how the phase diagram compares against larger lattices. Try to generate at least $1,000$ samples for each temperature."
   ]
  },
  {
   "cell_type": "markdown",
   "id": "594192e8-9c66-4bc1-b97f-075584e499d0",
   "metadata": {},
   "source": [
    "## Extension (Optimisations)\n",
    "\n",
    "The Metropolis algorithm for the Ising model can be computed thousands of times faster using an optimised algorithm that exploits the symmetry of the model. The 'checkerboard' algorithm is described in this [paper](https://arxiv.org/pdf/1906.06297.pdf) and can be implemented in python with not too much extension. Try to use np.roll or jax.roll for GPU acceleration and measure the performance difference. "
   ]
  },
  {
   "cell_type": "code",
   "execution_count": 1,
   "id": "a4d5b281-5c96-42a8-87c7-c612ffcfbc25",
   "metadata": {},
   "outputs": [],
   "source": [
    "import random\n",
    "import math\n",
    "import numpy as np\n",
    "import matplotlib.pyplot as plt\n",
    "\n",
    "CRITICAL_TEMP = 2.26918"
   ]
  }
 ],
 "metadata": {
  "kernelspec": {
   "display_name": "Python 3 (ipykernel)",
   "language": "python",
   "name": "python3"
  },
  "language_info": {
   "codemirror_mode": {
    "name": "ipython",
    "version": 3
   },
   "file_extension": ".py",
   "mimetype": "text/x-python",
   "name": "python",
   "nbconvert_exporter": "python",
   "pygments_lexer": "ipython3",
   "version": "3.9.6"
  }
 },
 "nbformat": 4,
 "nbformat_minor": 5
}
